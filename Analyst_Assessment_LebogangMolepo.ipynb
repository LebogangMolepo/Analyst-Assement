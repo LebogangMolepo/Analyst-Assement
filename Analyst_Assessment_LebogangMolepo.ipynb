{
 "cells": [
  {
   "cell_type": "code",
   "execution_count": 1,
   "metadata": {},
   "outputs": [],
   "source": [
    "# imports\n",
    "import pandas as pd \n",
    "import matplotlib\n",
    "import matplotlib.pyplot as plt"
   ]
  },
  {
   "attachments": {},
   "cell_type": "markdown",
   "metadata": {},
   "source": [
    "**Q1. Python 1**\n",
    "<br><br>\n",
    "Write a Python function that tests whether a given string is the same when reversed or not. String \"abba\" satisfies the test whereas \"Water\" does not. Demonstrate function use with 2 example strings."
   ]
  },
  {
   "cell_type": "code",
   "execution_count": 2,
   "metadata": {},
   "outputs": [
    {
     "name": "stdout",
     "output_type": "stream",
     "text": [
      "The string is the same in reverse\n",
      "The string is not the same in reverse\n"
     ]
    }
   ],
   "source": [
    "def isPalindrome(s):\n",
    "    return s == s[::-1] # return True if reversed string(s) == string(s)\n",
    "\n",
    "def palindromeResult(ans):\n",
    "    if ans:\n",
    "        print('The string is the same in reverse')\n",
    "    else:\n",
    "        print('The string is not the same in reverse')\n",
    "\n",
    "palindromeResult(isPalindrome('abba'))\n",
    "palindromeResult(isPalindrome('Water'))"
   ]
  },
  {
   "attachments": {},
   "cell_type": "markdown",
   "metadata": {},
   "source": [
    "**Q2: Python 2**<br><br>\n",
    "A csv file with Stock Historical prices for Apple stock (HistoricalPrices_AAPL.csv) has been provided."
   ]
  },
  {
   "attachments": {},
   "cell_type": "markdown",
   "metadata": {},
   "source": [
    "Write a python program that:<br>\n",
    "- reads the file"
   ]
  },
  {
   "cell_type": "code",
   "execution_count": 3,
   "metadata": {},
   "outputs": [
    {
     "data": {
      "text/html": [
       "<div>\n",
       "<style scoped>\n",
       "    .dataframe tbody tr th:only-of-type {\n",
       "        vertical-align: middle;\n",
       "    }\n",
       "\n",
       "    .dataframe tbody tr th {\n",
       "        vertical-align: top;\n",
       "    }\n",
       "\n",
       "    .dataframe thead th {\n",
       "        text-align: right;\n",
       "    }\n",
       "</style>\n",
       "<table border=\"1\" class=\"dataframe\">\n",
       "  <thead>\n",
       "    <tr style=\"text-align: right;\">\n",
       "      <th></th>\n",
       "      <th>Date</th>\n",
       "      <th>Open</th>\n",
       "      <th>High</th>\n",
       "      <th>Low</th>\n",
       "      <th>Close</th>\n",
       "      <th>Volume</th>\n",
       "    </tr>\n",
       "  </thead>\n",
       "  <tbody>\n",
       "    <tr>\n",
       "      <th>0</th>\n",
       "      <td>2007/12/21</td>\n",
       "      <td>146.210</td>\n",
       "      <td>146.3200</td>\n",
       "      <td>144.0000</td>\n",
       "      <td>144.500</td>\n",
       "      <td>76299719</td>\n",
       "    </tr>\n",
       "    <tr>\n",
       "      <th>1</th>\n",
       "      <td>2007/09/21</td>\n",
       "      <td>142.750</td>\n",
       "      <td>145.6500</td>\n",
       "      <td>142.6522</td>\n",
       "      <td>145.110</td>\n",
       "      <td>99890797</td>\n",
       "    </tr>\n",
       "    <tr>\n",
       "      <th>2</th>\n",
       "      <td>2007/08/21</td>\n",
       "      <td>141.580</td>\n",
       "      <td>144.0600</td>\n",
       "      <td>140.6650</td>\n",
       "      <td>143.240</td>\n",
       "      <td>105575508</td>\n",
       "    </tr>\n",
       "    <tr>\n",
       "      <th>3</th>\n",
       "      <td>2007/07/21</td>\n",
       "      <td>143.535</td>\n",
       "      <td>144.8900</td>\n",
       "      <td>142.6600</td>\n",
       "      <td>144.570</td>\n",
       "      <td>104911602</td>\n",
       "    </tr>\n",
       "    <tr>\n",
       "      <th>4</th>\n",
       "      <td>2007/06/21</td>\n",
       "      <td>140.070</td>\n",
       "      <td>143.1500</td>\n",
       "      <td>140.0700</td>\n",
       "      <td>142.020</td>\n",
       "      <td>108181797</td>\n",
       "    </tr>\n",
       "    <tr>\n",
       "      <th>5</th>\n",
       "      <td>2007/02/21</td>\n",
       "      <td>137.900</td>\n",
       "      <td>140.0000</td>\n",
       "      <td>137.7450</td>\n",
       "      <td>139.960</td>\n",
       "      <td>78945570</td>\n",
       "    </tr>\n",
       "    <tr>\n",
       "      <th>6</th>\n",
       "      <td>2007/01/21</td>\n",
       "      <td>136.600</td>\n",
       "      <td>137.3300</td>\n",
       "      <td>135.7600</td>\n",
       "      <td>137.270</td>\n",
       "      <td>52485781</td>\n",
       "    </tr>\n",
       "    <tr>\n",
       "      <th>7</th>\n",
       "      <td>2006/11/21</td>\n",
       "      <td>126.530</td>\n",
       "      <td>127.4400</td>\n",
       "      <td>126.1000</td>\n",
       "      <td>127.350</td>\n",
       "      <td>53522367</td>\n",
       "    </tr>\n",
       "    <tr>\n",
       "      <th>8</th>\n",
       "      <td>2006/10/21</td>\n",
       "      <td>127.020</td>\n",
       "      <td>128.1900</td>\n",
       "      <td>125.9400</td>\n",
       "      <td>126.110</td>\n",
       "      <td>71186414</td>\n",
       "    </tr>\n",
       "    <tr>\n",
       "      <th>9</th>\n",
       "      <td>2006/09/21</td>\n",
       "      <td>127.210</td>\n",
       "      <td>127.7500</td>\n",
       "      <td>126.5200</td>\n",
       "      <td>127.130</td>\n",
       "      <td>56877941</td>\n",
       "    </tr>\n",
       "    <tr>\n",
       "      <th>10</th>\n",
       "      <td>2006/08/21</td>\n",
       "      <td>126.600</td>\n",
       "      <td>128.4600</td>\n",
       "      <td>126.2101</td>\n",
       "      <td>126.740</td>\n",
       "      <td>74403766</td>\n",
       "    </tr>\n",
       "    <tr>\n",
       "      <th>11</th>\n",
       "      <td>2006/07/21</td>\n",
       "      <td>126.170</td>\n",
       "      <td>126.3200</td>\n",
       "      <td>124.8321</td>\n",
       "      <td>125.900</td>\n",
       "      <td>71057555</td>\n",
       "    </tr>\n",
       "    <tr>\n",
       "      <th>12</th>\n",
       "      <td>2006/04/21</td>\n",
       "      <td>124.070</td>\n",
       "      <td>126.1600</td>\n",
       "      <td>123.8500</td>\n",
       "      <td>125.890</td>\n",
       "      <td>75169344</td>\n",
       "    </tr>\n",
       "    <tr>\n",
       "      <th>13</th>\n",
       "      <td>2006/03/21</td>\n",
       "      <td>124.680</td>\n",
       "      <td>124.8500</td>\n",
       "      <td>123.1300</td>\n",
       "      <td>123.540</td>\n",
       "      <td>76229172</td>\n",
       "    </tr>\n",
       "    <tr>\n",
       "      <th>14</th>\n",
       "      <td>2006/02/21</td>\n",
       "      <td>124.280</td>\n",
       "      <td>125.2400</td>\n",
       "      <td>124.0500</td>\n",
       "      <td>125.060</td>\n",
       "      <td>59278859</td>\n",
       "    </tr>\n",
       "    <tr>\n",
       "      <th>15</th>\n",
       "      <td>2006/01/21</td>\n",
       "      <td>125.080</td>\n",
       "      <td>125.3500</td>\n",
       "      <td>123.9400</td>\n",
       "      <td>124.280</td>\n",
       "      <td>67637117</td>\n",
       "    </tr>\n",
       "    <tr>\n",
       "      <th>16</th>\n",
       "      <td>2005/12/21</td>\n",
       "      <td>123.400</td>\n",
       "      <td>124.6400</td>\n",
       "      <td>122.2500</td>\n",
       "      <td>122.770</td>\n",
       "      <td>112172305</td>\n",
       "    </tr>\n",
       "    <tr>\n",
       "      <th>17</th>\n",
       "      <td>2005/11/21</td>\n",
       "      <td>123.500</td>\n",
       "      <td>126.2700</td>\n",
       "      <td>122.7700</td>\n",
       "      <td>125.910</td>\n",
       "      <td>126142797</td>\n",
       "    </tr>\n",
       "    <tr>\n",
       "      <th>18</th>\n",
       "      <td>2005/10/21</td>\n",
       "      <td>129.410</td>\n",
       "      <td>129.5400</td>\n",
       "      <td>126.8100</td>\n",
       "      <td>126.850</td>\n",
       "      <td>88071234</td>\n",
       "    </tr>\n",
       "    <tr>\n",
       "      <th>19</th>\n",
       "      <td>2005/07/21</td>\n",
       "      <td>130.850</td>\n",
       "      <td>131.2582</td>\n",
       "      <td>129.4750</td>\n",
       "      <td>130.210</td>\n",
       "      <td>78973273</td>\n",
       "    </tr>\n",
       "    <tr>\n",
       "      <th>20</th>\n",
       "      <td>2005/06/21</td>\n",
       "      <td>127.890</td>\n",
       "      <td>129.7500</td>\n",
       "      <td>127.1300</td>\n",
       "      <td>129.740</td>\n",
       "      <td>78128328</td>\n",
       "    </tr>\n",
       "    <tr>\n",
       "      <th>21</th>\n",
       "      <td>2005/05/21</td>\n",
       "      <td>129.200</td>\n",
       "      <td>130.4500</td>\n",
       "      <td>127.9700</td>\n",
       "      <td>128.100</td>\n",
       "      <td>84000898</td>\n",
       "    </tr>\n",
       "    <tr>\n",
       "      <th>22</th>\n",
       "      <td>2005/04/21</td>\n",
       "      <td>131.190</td>\n",
       "      <td>131.4899</td>\n",
       "      <td>126.7000</td>\n",
       "      <td>127.850</td>\n",
       "      <td>137564703</td>\n",
       "    </tr>\n",
       "    <tr>\n",
       "      <th>23</th>\n",
       "      <td>2005/03/21</td>\n",
       "      <td>132.040</td>\n",
       "      <td>134.0700</td>\n",
       "      <td>131.8300</td>\n",
       "      <td>132.540</td>\n",
       "      <td>75135102</td>\n",
       "    </tr>\n",
       "    <tr>\n",
       "      <th>24</th>\n",
       "      <td>2004/12/21</td>\n",
       "      <td>132.520</td>\n",
       "      <td>132.8500</td>\n",
       "      <td>130.6300</td>\n",
       "      <td>131.240</td>\n",
       "      <td>91419984</td>\n",
       "    </tr>\n",
       "    <tr>\n",
       "      <th>25</th>\n",
       "      <td>2004/09/21</td>\n",
       "      <td>129.800</td>\n",
       "      <td>133.0400</td>\n",
       "      <td>129.4700</td>\n",
       "      <td>132.995</td>\n",
       "      <td>106686703</td>\n",
       "    </tr>\n",
       "    <tr>\n",
       "      <th>26</th>\n",
       "      <td>2004/08/21</td>\n",
       "      <td>128.950</td>\n",
       "      <td>130.3900</td>\n",
       "      <td>128.5200</td>\n",
       "      <td>130.360</td>\n",
       "      <td>88844594</td>\n",
       "    </tr>\n",
       "    <tr>\n",
       "      <th>27</th>\n",
       "      <td>2004/07/21</td>\n",
       "      <td>125.830</td>\n",
       "      <td>127.9200</td>\n",
       "      <td>125.1400</td>\n",
       "      <td>127.900</td>\n",
       "      <td>83466719</td>\n",
       "    </tr>\n",
       "    <tr>\n",
       "      <th>28</th>\n",
       "      <td>2004/06/21</td>\n",
       "      <td>126.500</td>\n",
       "      <td>127.1300</td>\n",
       "      <td>125.6500</td>\n",
       "      <td>126.210</td>\n",
       "      <td>80171250</td>\n",
       "    </tr>\n",
       "    <tr>\n",
       "      <th>29</th>\n",
       "      <td>2004/05/21</td>\n",
       "      <td>123.870</td>\n",
       "      <td>126.1601</td>\n",
       "      <td>123.0700</td>\n",
       "      <td>125.900</td>\n",
       "      <td>88651188</td>\n",
       "    </tr>\n",
       "    <tr>\n",
       "      <th>30</th>\n",
       "      <td>2004/01/21</td>\n",
       "      <td>123.660</td>\n",
       "      <td>124.1800</td>\n",
       "      <td>122.4900</td>\n",
       "      <td>123.000</td>\n",
       "      <td>75089125</td>\n",
       "    </tr>\n",
       "  </tbody>\n",
       "</table>\n",
       "</div>"
      ],
      "text/plain": [
       "          Date     Open      High       Low    Close     Volume\n",
       "0   2007/12/21  146.210  146.3200  144.0000  144.500   76299719\n",
       "1   2007/09/21  142.750  145.6500  142.6522  145.110   99890797\n",
       "2   2007/08/21  141.580  144.0600  140.6650  143.240  105575508\n",
       "3   2007/07/21  143.535  144.8900  142.6600  144.570  104911602\n",
       "4   2007/06/21  140.070  143.1500  140.0700  142.020  108181797\n",
       "5   2007/02/21  137.900  140.0000  137.7450  139.960   78945570\n",
       "6   2007/01/21  136.600  137.3300  135.7600  137.270   52485781\n",
       "7   2006/11/21  126.530  127.4400  126.1000  127.350   53522367\n",
       "8   2006/10/21  127.020  128.1900  125.9400  126.110   71186414\n",
       "9   2006/09/21  127.210  127.7500  126.5200  127.130   56877941\n",
       "10  2006/08/21  126.600  128.4600  126.2101  126.740   74403766\n",
       "11  2006/07/21  126.170  126.3200  124.8321  125.900   71057555\n",
       "12  2006/04/21  124.070  126.1600  123.8500  125.890   75169344\n",
       "13  2006/03/21  124.680  124.8500  123.1300  123.540   76229172\n",
       "14  2006/02/21  124.280  125.2400  124.0500  125.060   59278859\n",
       "15  2006/01/21  125.080  125.3500  123.9400  124.280   67637117\n",
       "16  2005/12/21  123.400  124.6400  122.2500  122.770  112172305\n",
       "17  2005/11/21  123.500  126.2700  122.7700  125.910  126142797\n",
       "18  2005/10/21  129.410  129.5400  126.8100  126.850   88071234\n",
       "19  2005/07/21  130.850  131.2582  129.4750  130.210   78973273\n",
       "20  2005/06/21  127.890  129.7500  127.1300  129.740   78128328\n",
       "21  2005/05/21  129.200  130.4500  127.9700  128.100   84000898\n",
       "22  2005/04/21  131.190  131.4899  126.7000  127.850  137564703\n",
       "23  2005/03/21  132.040  134.0700  131.8300  132.540   75135102\n",
       "24  2004/12/21  132.520  132.8500  130.6300  131.240   91419984\n",
       "25  2004/09/21  129.800  133.0400  129.4700  132.995  106686703\n",
       "26  2004/08/21  128.950  130.3900  128.5200  130.360   88844594\n",
       "27  2004/07/21  125.830  127.9200  125.1400  127.900   83466719\n",
       "28  2004/06/21  126.500  127.1300  125.6500  126.210   80171250\n",
       "29  2004/05/21  123.870  126.1601  123.0700  125.900   88651188\n",
       "30  2004/01/21  123.660  124.1800  122.4900  123.000   75089125"
      ]
     },
     "execution_count": 3,
     "metadata": {},
     "output_type": "execute_result"
    }
   ],
   "source": [
    "df_AAPL = pd.read_csv('HistoricalPrices_AAPL.csv')\n",
    "df_AAPL.head(33)"
   ]
  },
  {
   "attachments": {},
   "cell_type": "markdown",
   "metadata": {},
   "source": [
    "- calculate the stock return over this period and"
   ]
  },
  {
   "cell_type": "code",
   "execution_count": 4,
   "metadata": {},
   "outputs": [
    {
     "data": {
      "text/plain": [
       "11.350000000000819"
      ]
     },
     "execution_count": 4,
     "metadata": {},
     "output_type": "execute_result"
    }
   ],
   "source": [
    "open_total = df_AAPL['Open'].sum()\n",
    "close_total = df_AAPL['Close'].sum()\n",
    "Stock_return = close_total - open_total\n",
    "Stock_return"
   ]
  },
  {
   "cell_type": "code",
   "execution_count": 5,
   "metadata": {},
   "outputs": [
    {
     "name": "stdout",
     "output_type": "stream",
     "text": [
      "Stock return percentage 0.28 %\n"
     ]
    }
   ],
   "source": [
    "Stock_return_percentage = (Stock_return * 100)/open_total\n",
    "print('Stock return percentage ' + str(round(Stock_return_percentage, 2)) + ' %')"
   ]
  },
  {
   "attachments": {},
   "cell_type": "markdown",
   "metadata": {},
   "source": [
    "- Plot the stock price (close) against time (date)"
   ]
  },
  {
   "cell_type": "code",
   "execution_count": 6,
   "metadata": {},
   "outputs": [
    {
     "data": {
      "image/png": "[encoded data removed]",
      "text/plain": [
       "<Figure size 1500x480 with 1 Axes>"
      ]
     },
     "metadata": {},
     "output_type": "display_data"
    }
   ],
   "source": [
    "x = df_AAPL['Date']\n",
    "y = df_AAPL['Close']\n",
    "# naming the graph\n",
    "plt.title('Stock Historical prices for Apple stock')\n",
    "# naming the x and y axis\n",
    "plt.xlabel('Date')\n",
    "plt.ylabel('Stock Price')\n",
    "\n",
    "plt.plot(x, y)\n",
    "# set graph width size\n",
    "plt.gcf().set_figwidth(15)\n",
    "# beautify the x-labels\n",
    "plt.gcf().autofmt_xdate(rotation=45)\n",
    "# plt.show()"
   ]
  },
  {
   "attachments": {},
   "cell_type": "markdown",
   "metadata": {},
   "source": [
    "**Q3: Generic Problem 1**<br><br>\n",
    "You are an executive of a national retailer. Sales data indicate that sales of one of your inhouse grown staple foods have plummeted over the last half-year of financials reporting.<br> \n",
    "How can you go about finding the root cause of the drop in sales? Propose at least 2 potential solutions with justifications."
   ]
  },
  {
   "attachments": {},
   "cell_type": "markdown",
   "metadata": {},
   "source": [
    "**CAUSES OF DROP IN SALES**<br><br>\n",
    "- Poor Management\n",
    "- Improper delegations\n",
    "- Ignoring the competition\n",
    "- Poor communication\n",
    "\n"
   ]
  },
  {
   "attachments": {},
   "cell_type": "markdown",
   "metadata": {},
   "source": [
    "**SOLUTIONS FOR THE DROP IN SALE**<br><br>\n",
    "- Communicate well with the workers so that you can always be updated.\n",
    "- Delegate people in roles that better suit their skills and understanding \n",
    "- Have a manager that can lead and take responsibility "
   ]
  },
  {
   "attachments": {},
   "cell_type": "markdown",
   "metadata": {},
   "source": [
    "**Q4 Generic Problem 2**<br><br>\n",
    "South Africa is currently struggling with the triple challenges of unemployment, poverty and inequality. In your opinion, what are the main drivers of unemployment, especially amongst<br> the youth? What are the potential solutions to the unemployment challenge? Please suggest\n"
   ]
  },
  {
   "attachments": {},
   "cell_type": "markdown",
   "metadata": {},
   "source": [
    "**CAUSES OF UNEMPLOYEMT**<br><br>\n",
    "- Lack of necessary qualifications / Lack of employable skills.\n",
    "- Inappropriate ways of searching for employment\n",
    "- Nepotism and connections in the labour market\n",
    "- The demand for labour in SA is low and therefore increases the\n",
    "entry-level competition in an economy"
   ]
  },
  {
   "attachments": {},
   "cell_type": "markdown",
   "metadata": {},
   "source": [
    "**UNEMPLOYEMT SOLUTIONS**<br><br>\n",
    "- Early retirement\n",
    "- Help the youth to acquire skills that will make them useful to employers\n",
    "- Support for entrepreneurship and small businesses\n",
    "- Better preparing young people for the job market.\n",
    "- Better & affordable education and training facilities"
   ]
  },
  {
   "attachments": {},
   "cell_type": "markdown",
   "metadata": {},
   "source": [
    "## THANK TOU"
   ]
  }
 ],
 "metadata": {
  "kernelspec": {
   "display_name": "base",
   "language": "python",
   "name": "python3"
  },
  "language_info": {
   "codemirror_mode": {
    "name": "ipython",
    "version": 3
   },
   "file_extension": ".py",
   "mimetype": "text/x-python",
   "name": "python",
   "nbconvert_exporter": "python",
   "pygments_lexer": "ipython3",
   "version": "3.9.13 (main, Aug 25 2022, 23:51:50) [MSC v.1916 64 bit (AMD64)]"
  },
  "orig_nbformat": 4,
  "vscode": {
   "interpreter": {
    "hash": "1aacd273d83ff451fa06b28c8e9c55e9d295f5b6d48b325e479dc083c23b6946"
   }
  }
 },
 "nbformat": 4,
 "nbformat_minor": 2
}
